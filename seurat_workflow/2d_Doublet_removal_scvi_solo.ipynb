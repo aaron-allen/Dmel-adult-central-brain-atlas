{
 "cells": [
  {
   "cell_type": "markdown",
   "id": "8e53827d-a82f-4b3a-a160-9540b33983a9",
   "metadata": {},
   "source": [
    "# **Load libraries/packages**"
   ]
  },
  {
   "cell_type": "code",
   "execution_count": null,
   "id": "be168c6b-2f3a-4e8d-b1ba-6c22a9455ec3",
   "metadata": {},
   "outputs": [],
   "source": [
    "import scvi\n",
    "import scanpy\n",
    "import pandas\n",
    "import glob\n",
    "import os\n",
    "import warnings\n",
    "from time import gmtime, strftime\n",
    "from sinfo import sinfo"
   ]
  },
  {
   "cell_type": "code",
   "execution_count": null,
   "id": "3ec5a4de-fdbd-4af7-a268-bc4e8425400b",
   "metadata": {},
   "outputs": [],
   "source": [
    "warnings.filterwarnings('ignore')"
   ]
  },
  {
   "cell_type": "markdown",
   "id": "a423958e-ebd5-4a8c-b4af-1bdd9a5e1c52",
   "metadata": {},
   "source": [
    "## Start Time"
   ]
  },
  {
   "cell_type": "code",
   "execution_count": null,
   "id": "31a40c27-2d94-4d8e-9ecd-1597c2571927",
   "metadata": {},
   "outputs": [],
   "source": [
    "strftime(\"%Y-%m-%d %H:%M:%S\", gmtime())"
   ]
  },
  {
   "cell_type": "markdown",
   "id": "80a19d14-410b-4c74-808b-f805544ed4c6",
   "metadata": {},
   "source": [
    "## Load Params"
   ]
  },
  {
   "cell_type": "code",
   "execution_count": null,
   "id": "e7c4eb84-3a79-4fdc-be70-e64aeebb3a36",
   "metadata": {},
   "outputs": [],
   "source": [
    "# %run -i 'param_files/scrublet_params.py'"
   ]
  },
  {
   "cell_type": "code",
   "execution_count": null,
   "id": "444e2bd2-ce81-4eb6-bb64-f63b41dbed33",
   "metadata": {},
   "outputs": [],
   "source": [
    "proj_dir = os.path.join(os.getcwd(),'../')\n",
    "proj_dir"
   ]
  },
  {
   "cell_type": "code",
   "execution_count": null,
   "id": "fd4bd754-587f-4412-a7cb-d4d1db81ec9d",
   "metadata": {},
   "outputs": [],
   "source": [
    "alevin_dir = f'{proj_dir}analyses/doublets/filtered_inputs/'\n",
    "alevin_dir"
   ]
  },
  {
   "cell_type": "code",
   "execution_count": null,
   "id": "1fd8f6a3-7293-4422-9230-f505a3606cd1",
   "metadata": {},
   "outputs": [],
   "source": [
    "output_dir = os.path.join(proj_dir,'analyses/doublets/solo/')\n",
    "if not os.path.exists(output_dir):\n",
    "    os.makedirs(output_dir)\n",
    "output_dir"
   ]
  },
  {
   "cell_type": "markdown",
   "id": "9b524445-0500-4a6a-83dd-f1f085e9db60",
   "metadata": {},
   "source": [
    "### List input directories"
   ]
  },
  {
   "cell_type": "code",
   "execution_count": null,
   "id": "0239f8c9-02c6-4b2e-88c6-9f10aa72db08",
   "metadata": {},
   "outputs": [],
   "source": [
    "os.chdir(output_dir)\n",
    "myList = glob.glob(f'{alevin_dir}*')\n",
    "myList"
   ]
  },
  {
   "cell_type": "markdown",
   "id": "77fba555-bc88-4929-b017-b0ac89859655",
   "metadata": {},
   "source": [
    "## Run Solo"
   ]
  },
  {
   "cell_type": "code",
   "execution_count": null,
   "id": "f0b8b30e-7d7b-402d-9be5-cc04abd9713f",
   "metadata": {},
   "outputs": [],
   "source": [
    "for my_dir_path in myList:\n",
    "\n",
    "    #dir_name = my_dir_path[78:]\n",
    "    dir_name = my_dir_path.split('/')[-1]\n",
    "    print('\\n\\n\\n\\nProcessing: ',my_dir_path,'\\n\\n')\n",
    "\n",
    "    # if not os.path.exists(output_dir + dir_name):\n",
    "    #     os.makedirs(output_dir + dir_name)\n",
    "\n",
    "    print('\\n\\n')\n",
    "    print('Load the data ...')\n",
    "    # Load the data\n",
    "    adata = scanpy.read_10x_mtx(my_dir_path)\n",
    "    adata\n",
    "\n",
    "    print('\\n\\n')\n",
    "    print('Setup SCVI model ...')\n",
    "    # Setup SCVI model\n",
    "    scvi.model.SCVI.setup_anndata(adata)\n",
    "    vae = scvi.model.SCVI(adata)\n",
    "    vae.train()\n",
    "\n",
    "    print('\\n\\n')\n",
    "    print('Solo: Train and Predict ...')\n",
    "    # Solo: Train and Predict\n",
    "    solo = scvi.external.SOLO.from_scvi_model(vae)\n",
    "    solo.train()\n",
    "    my_scores = solo.predict(soft = True)\n",
    "    my_predictions = solo.predict(soft = False)\n",
    "    my_predictions = pandas.DataFrame(my_predictions, columns = ['prediction'])\n",
    "\n",
    "    print('\\n\\n')\n",
    "    print('Save the data ...')\n",
    "    # Save the data\n",
    "    # my_prefix = f'{strftime(\"%Y-%m-%d\", gmtime())}_{dir_name}_'\n",
    "    my_prefix = f'{dir_name}_'\n",
    "    solo.save(dir_path = output_dir, prefix = my_prefix, overwrite = True, save_anndata = True)\n",
    "    my_scores.to_csv(f'{output_dir}/{my_prefix}solo_doublet_scores.csv', index = True, header = True, sep = ',')\n",
    "    my_predictions.to_csv(f'{output_dir}/{my_prefix}solo_doublet_predictions.csv', index = True, header = True, sep = ',')\n"
   ]
  },
  {
   "cell_type": "markdown",
   "id": "09a255b3-b522-47a4-acb0-a744a52bdd94",
   "metadata": {},
   "source": [
    "## Session Info"
   ]
  },
  {
   "cell_type": "code",
   "execution_count": null,
   "id": "f2168c9d-aa4a-4348-91c3-f28197eb4ea1",
   "metadata": {},
   "outputs": [],
   "source": [
    "sinfo()"
   ]
  },
  {
   "cell_type": "markdown",
   "id": "57e9893f-87e6-410d-be98-b5153a908b76",
   "metadata": {},
   "source": [
    "## Stop time"
   ]
  },
  {
   "cell_type": "code",
   "execution_count": null,
   "id": "263ad855-4985-40d4-8f6d-3da46d2ace4e",
   "metadata": {},
   "outputs": [],
   "source": [
    "strftime(\"%Y-%m-%d %H:%M:%S\", gmtime())"
   ]
  },
  {
   "cell_type": "code",
   "execution_count": null,
   "id": "42fe61da-e6aa-406c-bb76-347cb9b2af07",
   "metadata": {},
   "outputs": [],
   "source": []
  }
 ],
 "metadata": {
  "kernelspec": {
   "display_name": "Python 3 (ipykernel)",
   "language": "python",
   "name": "python3"
  },
  "language_info": {
   "codemirror_mode": {
    "name": "ipython",
    "version": 3
   },
   "file_extension": ".py",
   "mimetype": "text/x-python",
   "name": "python",
   "nbconvert_exporter": "python",
   "pygments_lexer": "ipython3",
   "version": "3.9.13"
  }
 },
 "nbformat": 4,
 "nbformat_minor": 5
}
